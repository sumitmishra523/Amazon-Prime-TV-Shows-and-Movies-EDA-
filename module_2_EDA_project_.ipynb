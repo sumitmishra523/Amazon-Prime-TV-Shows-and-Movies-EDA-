{
  "nbformat": 4,
  "nbformat_minor": 0,
  "metadata": {
    "colab": {
      "private_outputs": true,
      "provenance": [],
      "collapsed_sections": [
        "vncDsAP0Gaoa",
        "FJNUwmbgGyua",
        "w6K7xa23Elo4",
        "yQaldy8SH6Dl",
        "PH-0ReGfmX4f",
        "mDgbUHAGgjLW",
        "O_i_v8NEhb9l",
        "HhfV-JJviCcP",
        "Y3lxredqlCYt",
        "3RnN4peoiCZX",
        "x71ZqKXriCWQ",
        "7hBIi_osiCS2",
        "JlHwYmJAmNHm",
        "35m5QtbWiB9F",
        "PoPl-ycgm1ru",
        "H0kj-8xxnORC",
        "nA9Y7ga8ng1Z",
        "PBTbrJXOngz2",
        "u3PMJOP6ngxN",
        "dauF4eBmngu3",
        "bKJF3rekwFvQ",
        "MSa1f5Uengrz",
        "GF8Ens_Soomf",
        "0wOQAZs5pc--",
        "K5QZ13OEpz2H",
        "lQ7QKXXCp7Bj",
        "448CDAPjqfQr",
        "KSlN3yHqYklG",
        "t6dVpIINYklI",
        "ijmpgYnKYklI",
        "-JiQyfWJYklI",
        "EM7whBJCYoAo",
        "fge-S5ZAYoAp",
        "85gYPyotYoAp",
        "RoGjAbkUYoAp",
        "4Of9eVA-YrdM",
        "iky9q4vBYrdO",
        "F6T5p64dYrdO",
        "y-Ehk30pYrdP",
        "bamQiAODYuh1",
        "QHF8YVU7Yuh3",
        "GwzvFGzlYuh3",
        "qYpmQ266Yuh3",
        "OH-pJp9IphqM",
        "bbFf2-_FphqN",
        "_ouA3fa0phqN",
        "Seke61FWphqN",
        "PIIx-8_IphqN",
        "t27r6nlMphqO",
        "r2jJGEOYphqO",
        "b0JNsNcRphqO",
        "BZR9WyysphqO",
        "jj7wYXLtphqO",
        "eZrbJ2SmphqO",
        "rFu4xreNphqO",
        "YJ55k-q6phqO",
        "gCFgpxoyphqP",
        "OVtJsKN_phqQ",
        "lssrdh5qphqQ",
        "U2RJ9gkRphqQ",
        "1M8mcRywphqQ",
        "tgIPom80phqQ",
        "JMzcOPDDphqR",
        "x-EpHcCOp1ci",
        "X_VqEhTip1ck",
        "8zGJKyg5p1ck",
        "PVzmfK_Ep1ck",
        "n3dbpmDWp1ck",
        "ylSl6qgtp1ck",
        "ZWILFDl5p1ck",
        "M7G43BXep1ck",
        "Ag9LCva-p1cl",
        "E6MkPsBcp1cl",
        "2cELzS2fp1cl",
        "3MPXvC8up1cl",
        "NC_X3p0fY2L0",
        "UV0SzAkaZNRQ",
        "YPEH6qLeZNRQ",
        "q29F0dvdveiT",
        "EXh0U9oCveiU",
        "22aHeOlLveiV",
        "JcMwzZxoAimU",
        "8G2x9gOozGDZ",
        "gCX9965dhzqZ",
        "gIfDvo9L0UH2"
      ],
      "include_colab_link": true
    },
    "kernelspec": {
      "name": "python3",
      "display_name": "Python 3"
    },
    "language_info": {
      "name": "python"
    }
  },
  "cells": [
    {
      "cell_type": "markdown",
      "metadata": {
        "id": "view-in-github",
        "colab_type": "text"
      },
      "source": [
        "<a href=\"https://colab.research.google.com/github/sumitmishra523/Amazon-Prime-TV-Shows-and-Movies-EDA-/blob/main/module_2_EDA_project_.ipynb\" target=\"_parent\"><img src=\"https://colab.research.google.com/assets/colab-badge.svg\" alt=\"Open In Colab\"/></a>"
      ]
    },
    {
      "cell_type": "markdown",
      "source": [
        "# amazon  prime tv show analysis project    ~\n",
        "\n"
      ],
      "metadata": {
        "id": "vncDsAP0Gaoa"
      }
    },
    {
      "cell_type": "markdown",
      "source": [
        "##### **Project Type**    - EDA\n",
        "##### **Contribution**    -  Individual\n",
        " Name ~ Sumit mishra"
      ],
      "metadata": {
        "id": "beRrZCGUAJYm"
      }
    },
    {
      "cell_type": "markdown",
      "source": [
        "# **Project Summary -**"
      ],
      "metadata": {
        "id": "FJNUwmbgGyua"
      }
    },
    {
      "cell_type": "markdown",
      "source": [
        "Project Title ~ Amazon Prime TV Shows – Exploratory Data Analysis\n",
        "\n",
        "Objective  ~ To explore and analyze TV show data from Amazon Prime to identify trends, content distribution, and key insights related to genres, release years, ratings, and content origin.\n",
        "\n",
        "Tools Used ~  Python, Pandas, NumPy, Matplotlib, Seaborn\n",
        "\n",
        "Approach ~\n",
        "\n",
        "Data loading and inspection\n",
        "\n",
        "Missing value treatment\n",
        "\n",
        "Data type correction and formatting\n",
        "\n",
        "Univariate and bivariate analysis\n",
        "\n",
        "Visualization of trends and distributions\n",
        "\n",
        "\n",
        "Outcome ~ Derived insights on genre distribution, country-wise content contribution, release year trends, target audience, and content rating patterns.\n",
        "\n",
        "\n",
        "\n",
        "\n",
        "\n"
      ],
      "metadata": {
        "id": "71u-KiJznrtj"
      }
    },
    {
      "cell_type": "markdown",
      "source": [
        "# **GitHub Link -**"
      ],
      "metadata": {
        "id": "w6K7xa23Elo4"
      }
    },
    {
      "cell_type": "markdown",
      "source": [
        "Provide your GitHub Link here."
      ],
      "metadata": {
        "id": "h1o69JH3Eqqn"
      }
    },
    {
      "cell_type": "markdown",
      "source": [
        "# **Problem Statement**\n"
      ],
      "metadata": {
        "id": "yQaldy8SH6Dl"
      }
    },
    {
      "cell_type": "markdown",
      "source": [
        "Amazon Prime hosts a vast library of TV shows from various genres, countries, and time periods. However, understanding the composition, trends, and patterns in this content library requires structured analysis. The lack of clear visibility into content distribution limits strategic decisions in areas like marketing, content acquisition, and user targeting.\n",
        "\n",
        "This project aims to:\n",
        "\n",
        "Identify dominant genres and popular content categories\n",
        "\n",
        "Analyze content release trends over time\n",
        "\n",
        "Understand target audience through age ratings\n",
        "\n",
        "Examine geographical distribution of TV shows\n",
        "\n",
        "Detect missing or inconsistent data affecting content insights\n",
        "\n",
        "\n",
        "The goal is to generate data-driven insights that can support content strategy and platform optimization."
      ],
      "metadata": {
        "id": "DpeJGUA3kjGy"
      }
    },
    {
      "cell_type": "markdown",
      "source": [
        "#### **Define Your Business Objective?**"
      ],
      "metadata": {
        "id": "PH-0ReGfmX4f"
      }
    },
    {
      "cell_type": "markdown",
      "source": [
        "To analyze the Amazon Prime TV Shows dataset and extract actionable insights that can assist in:\n",
        "\n",
        "Enhancing content acquisition strategy based on genre, region, and release trends\n",
        "\n",
        "Understanding viewer segmentation through age ratings and show types\n",
        "\n",
        "Identifying underrepresented categories or regions for content expansion\n",
        "\n",
        "Improving user experience by aligning content offerings with demand patterns\n",
        "\n",
        "Supporting data-driven decisions for marketing and recommendation systems\n",
        "\n",
        "\n",
        "This analysis enables stakeholders to make informed choices for platform growth, customer retention, and competitive positioning in the OTT space."
      ],
      "metadata": {
        "id": "PhDvGCAqmjP1"
      }
    },
    {
      "cell_type": "markdown",
      "source": [
        "# **General Guidelines** : -  "
      ],
      "metadata": {
        "id": "mDgbUHAGgjLW"
      }
    },
    {
      "cell_type": "markdown",
      "source": [
        "1.   Well-structured, formatted, and commented code is required.\n",
        "2.   Exception Handling, Production Grade Code & Deployment Ready Code will be a plus. Those students will be awarded some additional credits.\n",
        "     \n",
        "     The additional credits will have advantages over other students during Star Student selection.\n",
        "       \n",
        "             [ Note: - Deployment Ready Code is defined as, the whole .ipynb notebook should be executable in one go\n",
        "                       without a single error logged. ]\n",
        "\n",
        "3.   Each and every logic should have proper comments.\n",
        "4. You may add as many number of charts you want. Make Sure for each and every chart the following format should be answered.\n",
        "        \n",
        "\n",
        "```\n",
        "# Chart visualization code\n",
        "```\n",
        "            \n",
        "\n",
        "*   Why did you pick the specific chart?\n",
        "*   What is/are the insight(s) found from the chart?\n",
        "* Will the gained insights help creating a positive business impact?\n",
        "Are there any insights that lead to negative growth? Justify with specific reason.\n",
        "\n",
        "5. You have to create at least 20 logical & meaningful charts having important insights.\n",
        "\n",
        "\n",
        "[ Hints : - Do the Vizualization in  a structured way while following \"UBM\" Rule.\n",
        "\n",
        "U - Univariate Analysis,\n",
        "\n",
        "B - Bivariate Analysis (Numerical - Categorical, Numerical - Numerical, Categorical - Categorical)\n",
        "\n",
        "M - Multivariate Analysis\n",
        " ]\n",
        "\n",
        "\n",
        "\n"
      ],
      "metadata": {
        "id": "ZrxVaUj-hHfC"
      }
    },
    {
      "cell_type": "markdown",
      "source": [
        "# ***Let's Begin !***"
      ],
      "metadata": {
        "id": "O_i_v8NEhb9l"
      }
    },
    {
      "cell_type": "markdown",
      "source": [
        "## ***1. Know Your Data***"
      ],
      "metadata": {
        "id": "HhfV-JJviCcP"
      }
    },
    {
      "cell_type": "markdown",
      "source": [
        "### Import Libraries"
      ],
      "metadata": {
        "id": "Y3lxredqlCYt"
      }
    },
    {
      "cell_type": "code",
      "source": [
        "# Import Libraries\n",
        "import numpy as np\n",
        "import pandas as pd\n",
        "import math\n",
        "from numpy import loadtxt\n",
        "import seaborn as sns\n",
        "import matplotlib.pyplot as plt\n",
        "%matplotlib inline\n",
        "from matplotlib import rcParams\n",
        "\n"
      ],
      "metadata": {
        "id": "M8Vqi-pPk-HR"
      },
      "execution_count": null,
      "outputs": []
    },
    {
      "cell_type": "markdown",
      "source": [
        "### Dataset Loading"
      ],
      "metadata": {
        "id": "3RnN4peoiCZX"
      }
    },
    {
      "cell_type": "code",
      "source": [
        "# Load Dataset\n",
        "from google.colab import drive\n",
        "drive.mount('/content/drive')\n",
        "df = pd.read_csv('/content/drive/MyDrive/titles.csv')\n",
        "df1 = pd.read_csv('/content/drive/MyDrive/credits.csv')\n"
      ],
      "metadata": {
        "id": "4CkvbW_SlZ_R"
      },
      "execution_count": null,
      "outputs": []
    },
    {
      "cell_type": "markdown",
      "source": [
        "merge the data set"
      ],
      "metadata": {
        "id": "1APGQWHzVaXk"
      }
    },
    {
      "cell_type": "code",
      "source": [
        "merged_df = pd.merge(df, df1, on='id', how='inner')\n"
      ],
      "metadata": {
        "id": "6AKEoNFXVlt5"
      },
      "execution_count": null,
      "outputs": []
    },
    {
      "cell_type": "markdown",
      "source": [
        "### Dataset First View"
      ],
      "metadata": {
        "id": "x71ZqKXriCWQ"
      }
    },
    {
      "cell_type": "code",
      "source": [
        "merged_df.head()"
      ],
      "metadata": {
        "id": "LWNFOSvLl09H"
      },
      "execution_count": null,
      "outputs": []
    },
    {
      "cell_type": "markdown",
      "source": [
        "### Dataset Rows & Columns count"
      ],
      "metadata": {
        "id": "7hBIi_osiCS2"
      }
    },
    {
      "cell_type": "code",
      "source": [
        "# Dataset Rows & Columns count\n",
        "merged_df.shape"
      ],
      "metadata": {
        "id": "Kllu7SJgmLij"
      },
      "execution_count": null,
      "outputs": []
    },
    {
      "cell_type": "markdown",
      "source": [
        "### Dataset Information"
      ],
      "metadata": {
        "id": "JlHwYmJAmNHm"
      }
    },
    {
      "cell_type": "code",
      "source": [
        "# Dataset Info\n",
        "merged_df.info()"
      ],
      "metadata": {
        "id": "e9hRXRi6meOf"
      },
      "execution_count": null,
      "outputs": []
    },
    {
      "cell_type": "markdown",
      "source": [
        "#### Duplicate Values"
      ],
      "metadata": {
        "id": "35m5QtbWiB9F"
      }
    },
    {
      "cell_type": "code",
      "source": [
        "#Duplicate Rows count\n",
        "duplicate_df = merged_df.duplicated()\n",
        "print(\"Number of duplicate rows:\", duplicate_df.sum())"
      ],
      "metadata": {
        "id": "1sLdpKYkmox0"
      },
      "execution_count": null,
      "outputs": []
    },
    {
      "cell_type": "markdown",
      "source": [
        "#### Missing Values/Null Values"
      ],
      "metadata": {
        "id": "PoPl-ycgm1ru"
      }
    },
    {
      "cell_type": "code",
      "source": [
        "# Missing Values/Null Values Count\n",
        "# Count of null values in each column\n",
        "merged_df.isnull().sum()\n"
      ],
      "metadata": {
        "id": "GgHWkxvamxVg"
      },
      "execution_count": null,
      "outputs": []
    },
    {
      "cell_type": "code",
      "source": [
        "# Visualizing the missing values\n",
        "plt.figure(figsize=(15, 8))\n",
        "\n",
        "# Plot missing values heatmap\n",
        "sns.heatmap(merged_df.isnull(), cbar=False, cmap=\"YlGnBu\", yticklabels=False)\n",
        "\n",
        "# Add titles and labels\n",
        "plt.title('Missing Values Heatmap (Seaborn)', fontsize=19)\n",
        "plt.xlabel(' Data Columns')\n",
        "plt.ylabel('Row Index')\n",
        "\n",
        "plt.show()"
      ],
      "metadata": {
        "id": "3q5wnI3om9sJ"
      },
      "execution_count": null,
      "outputs": []
    },
    {
      "cell_type": "markdown",
      "source": [
        "### What did you know about your dataset?"
      ],
      "metadata": {
        "id": "H0kj-8xxnORC"
      }
    },
    {
      "cell_type": "markdown",
      "source": [
        "The dataset represents a rich catalog of entertainment content, combining titles and their associated cast and crew information. It’s structured in two parts — titles.csv and credits.csv — which have been merged to create a comprehensive view of both content and contributors.\n",
        "\n",
        "🧾 Key Insights:\n",
        "***Content Scope:\n",
        "The dataset includes a diverse mix of movies and shows from different genres, release years, and durations — offering strong potential for analysis on content trends over time.\n",
        "\n",
        "***Entity Relationship:\n",
        "\n",
        "Each title (movie or show) has a unique ID, linked to multiple people in the credits file.\n",
        "\n",
        "The merged structure enables analysis of how actors, directors, and crew are distributed across the content catalog.\n",
        "\n",
        "***Missing & Duplicate Data:\n",
        "\n",
        "Identified missing values in columns such as genres and runtime, which may affect recommendation models or content filtering unless handled properly.\n",
        "\n",
        "Detected duplicate rows, suggesting the need for data cleaning to ensure accuracy in analysis.\n",
        "\n",
        "***Usability:\n",
        "The dataset is highly suitable for tasks such as:\n",
        "\n",
        "⭐ IMDb rating trend analysis\n",
        "\n",
        "🎬 Actor/Director profiling\n",
        "\n",
        "🧠 Content-based filtering\n",
        "\n",
        "📊 Visual storytelling (via genres, types, timelines)"
      ],
      "metadata": {
        "id": "gfoNAAC-nUe_"
      }
    },
    {
      "cell_type": "markdown",
      "source": [
        "## ***2. Understanding Your Variables***"
      ],
      "metadata": {
        "id": "nA9Y7ga8ng1Z"
      }
    },
    {
      "cell_type": "code",
      "source": [
        "# Dataset Columns\n",
        "merged_df.columns"
      ],
      "metadata": {
        "id": "j7xfkqrt5Ag5"
      },
      "execution_count": null,
      "outputs": []
    },
    {
      "cell_type": "code",
      "source": [
        "# Dataset Describe\n",
        "merged_df.describe()"
      ],
      "metadata": {
        "id": "DnOaZdaE5Q5t"
      },
      "execution_count": null,
      "outputs": []
    },
    {
      "cell_type": "markdown",
      "source": [
        "### Variables Description"
      ],
      "metadata": {
        "id": "PBTbrJXOngz2"
      }
    },
    {
      "cell_type": "markdown",
      "source": [
        "## 🧾 Variable Description\n",
        "\n",
        "| Column Name          | Description                                                  |\n",
        "|----------------------|--------------------------------------------------------------|\n",
        "| `id`                 | Unique identifier for each title (used to link both files)   |\n",
        "| `title`              | Title of the movie or TV show                                |\n",
        "| `type`               | Type of content – either `\"MOVIE\"` or `\"SHOW\"`               |\n",
        "| `description`        | Short summary of the plot or theme                           |\n",
        "| `release_year`       | Year in which the title was released                         |\n",
        "| `age_certification`  | Content rating (e.g., PG, R, TV-MA)                          |\n",
        "| `runtime`            | Duration in minutes                                          |\n",
        "| `genres`             | Comma-separated list of genres (e.g., Drama, Comedy)         |\n",
        "| `production_countries` | Countries where the title was produced                     |\n",
        "| `seasons`            | Number of seasons (for shows)                                |\n",
        "| `imdb_id`            | IMDb identifier (if available)                               |\n",
        "| `imdb_score`         | IMDb rating score (0 to 10)                                  |\n",
        "| `tmdb_score`         | TMDb score (if available)                                    |\n",
        "| `tmdb_popularity`    | Popularity metric from TMDb                                  |\n",
        "| `name`               | Name of the cast or crew member                              |\n",
        "| `character`          | Character played (for actors)                                |\n",
        "| `role`               | Role of the person (e.g., ACTOR, DIRECTOR, etc.)             |\n"
      ],
      "metadata": {
        "id": "aJV4KIxSnxay"
      }
    },
    {
      "cell_type": "markdown",
      "source": [
        "### Check Unique Values for each variable."
      ],
      "metadata": {
        "id": "u3PMJOP6ngxN"
      }
    },
    {
      "cell_type": "code",
      "source": [
        "# Check Unique Values for each variable.\n",
        "# Show number of unique values for each column\n",
        "merged_df.nunique()\n"
      ],
      "metadata": {
        "id": "zms12Yq5n-jE"
      },
      "execution_count": null,
      "outputs": []
    },
    {
      "cell_type": "markdown",
      "source": [
        "## 3. ***Data Wrangling***"
      ],
      "metadata": {
        "id": "dauF4eBmngu3"
      }
    },
    {
      "cell_type": "markdown",
      "source": [
        "**converting data types**"
      ],
      "metadata": {
        "id": "bKJF3rekwFvQ"
      }
    },
    {
      "cell_type": "code",
      "source": [
        "# Convert 'seasons' column to integer\n",
        "merged_df['seasons'] = pd.to_numeric(merged_df['seasons'], errors='coerce').astype('Int64')\n",
        "merged_df['imdb_votes'] = pd.to_numeric(merged_df['imdb_votes'], errors='coerce').astype('Int64')"
      ],
      "metadata": {
        "id": "w-W9BIcFhlEC"
      },
      "execution_count": null,
      "outputs": []
    },
    {
      "cell_type": "markdown",
      "source": [
        "*** removing  duplicates***"
      ],
      "metadata": {
        "id": "TrDrYTaUmwnz"
      }
    },
    {
      "cell_type": "code",
      "source": [
        "# Write your code to make your dataset analysis ready.\n",
        "#dropping duplicates firsly\n",
        "merged_df.drop_duplicates()\n",
        "# 👀 Check number of duplicate rows\n",
        "duplicate_count = merged_df.duplicated().sum()\n",
        "print(f\"Number of duplicate rows removed: {duplicate_count}\")\n",
        "#DataFrame now has 124,179 unique rows (124,347 - 168)."
      ],
      "metadata": {
        "id": "wk-9a2fpoLcV"
      },
      "execution_count": null,
      "outputs": []
    },
    {
      "cell_type": "markdown",
      "source": [
        "*** clearing out null/ NAN values and placing valid values ***"
      ],
      "metadata": {
        "id": "g9xngfyGnEU8"
      }
    },
    {
      "cell_type": "code",
      "source": [
        "#  Drop rows that contain any missing values to maintain data completeness\n",
        "merged_df['age_certification'] = merged_df['age_certification'].fillna('Not Rated')\n",
        "merged_df['runtime'] = merged_df['runtime'].fillna(merged_df['runtime'].median())\n",
        "merged_df['imdb_votes'] = merged_df['imdb_votes'].fillna(merged_df['imdb_votes'].median())\n",
        "merged_df['tmdb_score'] = merged_df['tmdb_score'].fillna(merged_df['tmdb_score'].median())\n",
        "merged_df['genres'] = merged_df['genres'].fillna('Unknown')\n",
        "merged_df['production_countries'] = merged_df['production_countries'].fillna('Unknown')\n",
        "merged_df['seasons'] = merged_df['seasons'].fillna(0)\n",
        "# 🎯 Fill missing IMDb scores with the median to preserve rating distribution\n",
        "merged_df['imdb_score'] = merged_df['imdb_score'].fillna(merged_df['imdb_score'].median())\n",
        "#lets see is there any imp columns left who have null values which will raise a concern while taking out insights\n",
        "merged_df.isna().sum()"
      ],
      "metadata": {
        "id": "T7xNY3JXmudD"
      },
      "execution_count": null,
      "outputs": []
    },
    {
      "cell_type": "code",
      "source": [
        "# Select relevant numeric columns\n",
        "columns_to_plot = [ 'runtime','imdb_votes','imdb_score','tmdb_popularity','tmdb_score' ]\n",
        "plt.figure(figsize=(12, 6))\n",
        "sns.boxplot(data=df[columns_to_plot])\n",
        "plt.title(\"Boxplot for Outlier Detection in Amazon Prime Data\")\n",
        "plt.xticks(rotation=45)\n",
        "plt.show()"
      ],
      "metadata": {
        "id": "icaRsG9lMk34"
      },
      "execution_count": null,
      "outputs": []
    },
    {
      "cell_type": "markdown",
      "source": [
        " # shows or blockbuster movies naturally gather hundreds or thousands or even millions of votes. so according to me its normal to have some high values in imdb votes and others are giving perfect insights so dont need to remove the imdb high values as outliers"
      ],
      "metadata": {
        "id": "cF8m8cJKRsMe"
      }
    },
    {
      "cell_type": "markdown",
      "source": [
        "### What all manipulations have you done and insights you found?"
      ],
      "metadata": {
        "id": "MSa1f5Uengrz"
      }
    },
    {
      "cell_type": "markdown",
      "source": [
        "Answer Here."
      ],
      "metadata": {
        "id": "LbyXE7I1olp8"
      }
    },
    {
      "cell_type": "markdown",
      "source": [
        "## ***4. Data Vizualization, Storytelling & Experimenting with charts : Understand the relationships between variables***"
      ],
      "metadata": {
        "id": "GF8Ens_Soomf"
      }
    },
    {
      "cell_type": "markdown",
      "source": [
        "#### Chart - 1"
      ],
      "metadata": {
        "id": "0wOQAZs5pc--"
      }
    },
    {
      "cell_type": "code",
      "source": [
        "# Chart - 1 visualization code\n",
        "\n",
        "sns.histplot(merged_df['imdb_score'], bins=20, kde=True)\n",
        "plt.title(\"Distribution of IMDb Scores\")\n",
        "plt.xlabel(\"IMDb Score\")\n",
        "plt.ylabel(\"Count\")\n",
        "plt.show()"
      ],
      "metadata": {
        "id": "7v_ESjsspbW7"
      },
      "execution_count": null,
      "outputs": []
    },
    {
      "cell_type": "markdown",
      "source": [
        "##### 1. Why did you pick the specific chart?"
      ],
      "metadata": {
        "id": "K5QZ13OEpz2H"
      }
    },
    {
      "cell_type": "markdown",
      "source": [
        "Histogram is ideal for visualizing the distribution of continuous numerical data like IMDb scores. KDE line helps understand the probability density and shape of the distribution"
      ],
      "metadata": {
        "id": "XESiWehPqBRc"
      }
    },
    {
      "cell_type": "markdown",
      "source": [
        "##### 2. What is/are the insight(s) found from the chart?"
      ],
      "metadata": {
        "id": "lQ7QKXXCp7Bj"
      }
    },
    {
      "cell_type": "markdown",
      "source": [
        "Most shows have IMDb scores between 6 and 8, with a sharp decline beyond that range. Very few shows score below 4 or above 9, indicating that the majority of Prime Video content falls in the mid-to-high quality range as rated by users."
      ],
      "metadata": {
        "id": "C_j1G7yiqdRP"
      }
    },
    {
      "cell_type": "markdown",
      "source": [
        "##### 3. Will the gained insights help creating a positive business impact?\n",
        "Are there any insights that lead to negative growth? Justify with specific reason."
      ],
      "metadata": {
        "id": "448CDAPjqfQr"
      }
    },
    {
      "cell_type": "markdown",
      "source": [
        "Yes.\n",
        "The insights derived from EDA can lead to strategic improvements and positive business outcomes, such as:\n",
        "\n",
        "Content Strategy Optimization:\n",
        "Understanding genre popularity, country-wise contribution, and IMDb rating patterns helps Amazon prioritize what kind of shows to acquire or promote.\n",
        "\n",
        "User Retention & Personalization:\n",
        "Age rating trends and genre preferences can improve recommendation systems, keeping users engaged longer.\n",
        "\n",
        "Content Quality Assurance:\n",
        "Detecting that most shows lie between IMDb 6–8 indicates stable content quality. Focus can now shift to improving or replacing underperforming content.\n",
        "\n",
        "Market Expansion Decisions:\n",
        "If certain countries or genres are underrepresented, Amazon can fill those gaps to attract new demographics.                                               \n",
        "\n",
        "\n",
        "some insights might highlight areas of concern but will not impact negetively."
      ],
      "metadata": {
        "id": "3cspy4FjqxJW"
      }
    },
    {
      "cell_type": "markdown",
      "source": [
        "#### Chart - 2"
      ],
      "metadata": {
        "id": "KSlN3yHqYklG"
      }
    },
    {
      "cell_type": "code",
      "source": [
        "# Chart - 2 visualization code\n",
        "sns.histplot(merged_df['runtime'], bins=30, kde=True, color='orange')\n",
        "plt.title(\"Distribution of Runtimes\")\n",
        "plt.xlabel(\"Runtime (minutes)\")\n",
        "plt.ylabel(\"Count\")\n",
        "plt.show()"
      ],
      "metadata": {
        "id": "R4YgtaqtYklH"
      },
      "execution_count": null,
      "outputs": []
    },
    {
      "cell_type": "markdown",
      "source": [
        "##### 1. Why did you pick the specific chart?"
      ],
      "metadata": {
        "id": "t6dVpIINYklI"
      }
    },
    {
      "cell_type": "markdown",
      "source": [
        "A histogram is ideal to visualize the spread and frequency of numerical data, in this case, the runtime (in minutes) of TV shows. It helps detect central tendency, skewness, and outliers in runtime values."
      ],
      "metadata": {
        "id": "5aaW0BYyYklI"
      }
    },
    {
      "cell_type": "markdown",
      "source": [
        "##### 2. What is/are the insight(s) found from the chart?"
      ],
      "metadata": {
        "id": "ijmpgYnKYklI"
      }
    },
    {
      "cell_type": "markdown",
      "source": [
        "Majority of TV shows on Amazon Prime have runtimes between 20 to 60 minutes, which aligns with typical episode lengths. Very few shows exceed 100+ minutes, indicating a clear focus on short to mid-length episodic content rather than long-format or feature-length formats."
      ],
      "metadata": {
        "id": "PSx9atu2YklI"
      }
    },
    {
      "cell_type": "markdown",
      "source": [
        "##### 3. Will the gained insights help creating a positive business impact?\n",
        "Are there any insights that lead to negative growth? Justify with specific reason."
      ],
      "metadata": {
        "id": "-JiQyfWJYklI"
      }
    },
    {
      "cell_type": "markdown",
      "source": [
        "Most shows are 20–60 mins, which suits binge-watching and today’s short attention spans.\n",
        "\n",
        "Helps increase completion rates and keeps users engaged.\n",
        "\n",
        "\n",
        "Very few long-format shows may lead to lack of content variety.\n",
        "\n",
        "Could alienate users looking for in-depth or special content."
      ],
      "metadata": {
        "id": "BcBbebzrYklV"
      }
    },
    {
      "cell_type": "markdown",
      "source": [
        "#### Chart - 3"
      ],
      "metadata": {
        "id": "EM7whBJCYoAo"
      }
    },
    {
      "cell_type": "code",
      "source": [
        "# Chart - 3 visualization code\n",
        "sns.countplot(x='type', data=merged_df, palette='Set2')\n",
        "plt.title(\"Count of Movies vs Shows\")\n",
        "plt.xlabel(\"Type\")\n",
        "plt.ylabel(\"Count\")\n",
        "plt.show()"
      ],
      "metadata": {
        "id": "t6GMdE67YoAp"
      },
      "execution_count": null,
      "outputs": []
    },
    {
      "cell_type": "markdown",
      "source": [
        "##### 1. Why did you pick the specific chart?"
      ],
      "metadata": {
        "id": "fge-S5ZAYoAp"
      }
    },
    {
      "cell_type": "markdown",
      "source": [
        "To compare the total number of movies vs TV shows available on Amazon Prime.\n",
        "\n"
      ],
      "metadata": {
        "id": "5dBItgRVYoAp"
      }
    },
    {
      "cell_type": "markdown",
      "source": [
        "##### 2. What is/are the insight(s) found from the chart?"
      ],
      "metadata": {
        "id": "85gYPyotYoAp"
      }
    },
    {
      "cell_type": "markdown",
      "source": [
        "Movies significantly outnumber shows — indicating a movie-heavy library."
      ],
      "metadata": {
        "id": "4jstXR6OYoAp"
      }
    },
    {
      "cell_type": "markdown",
      "source": [
        "##### 3. Will the gained insights help creating a positive business impact?\n",
        "Are there any insights that lead to negative growth? Justify with specific reason."
      ],
      "metadata": {
        "id": "RoGjAbkUYoAp"
      }
    },
    {
      "cell_type": "markdown",
      "source": [
        "Focus on movies meets demand for quick, one-time content consumption.\n",
        "\n",
        "Good for casual users who prefer short engagement.\n",
        "\n",
        "Fewer shows can affect long-term user retention, as series keep users hooked over time."
      ],
      "metadata": {
        "id": "zfJ8IqMcYoAp"
      }
    },
    {
      "cell_type": "markdown",
      "source": [
        "#### Chart - 4"
      ],
      "metadata": {
        "id": "4Of9eVA-YrdM"
      }
    },
    {
      "cell_type": "code",
      "source": [
        "# Chart - 4 visualization code\n",
        "sns.countplot(y='age_certification', data=merged_df,\n",
        "              order=merged_df['age_certification'].value_counts().index,\n",
        "              palette='Set3')\n",
        "plt.title(\"Distribution of Age Certifications\")\n",
        "plt.xlabel(\"Count\")\n",
        "plt.ylabel(\"Age Certification\")\n",
        "plt.show()"
      ],
      "metadata": {
        "id": "irlUoxc8YrdO"
      },
      "execution_count": null,
      "outputs": []
    },
    {
      "cell_type": "markdown",
      "source": [
        "##### 1. Why did you pick the specific chart?"
      ],
      "metadata": {
        "id": "iky9q4vBYrdO"
      }
    },
    {
      "cell_type": "markdown",
      "source": [
        "To analyze age-based classification of content and understand the target audience segments on Amazon Prime."
      ],
      "metadata": {
        "id": "aJRCwT6DYrdO"
      }
    },
    {
      "cell_type": "markdown",
      "source": [
        "##### 2. What is/are the insight(s) found from the chart?"
      ],
      "metadata": {
        "id": "F6T5p64dYrdO"
      }
    },
    {
      "cell_type": "markdown",
      "source": [
        "A large portion of content is Not Rated, followed by R-rated and PG-13, indicating a focus on mature audiences. There's limited content for kids and general audience."
      ],
      "metadata": {
        "id": "Xx8WAJvtYrdO"
      }
    },
    {
      "cell_type": "markdown",
      "source": [
        "##### 3. Will the gained insights help creating a positive business impact?\n",
        "Are there any insights that lead to negative growth? Justify with specific reason."
      ],
      "metadata": {
        "id": "y-Ehk30pYrdP"
      }
    },
    {
      "cell_type": "markdown",
      "source": [
        "Strong presence of teen and adult content matches OTT trends and viewer demand for mature genres.\n",
        "\n",
        "High number of “Not Rated” content may reflect data inconsistency or unreviewed content, affecting parental control and personalization.\n",
        "\n",
        "Low kids/family content may limit platform’s reach in multi-user households."
      ],
      "metadata": {
        "id": "jLNxxz7MYrdP"
      }
    },
    {
      "cell_type": "markdown",
      "source": [
        "#### Chart - 5"
      ],
      "metadata": {
        "id": "bamQiAODYuh1"
      }
    },
    {
      "cell_type": "code",
      "source": [
        "# Chart - 5 visualization code\n",
        "sns.boxplot(x='type', y='imdb_score', data=merged_df)\n",
        "plt.title(\"IMDb Score Distribution by Type\")\n",
        "plt.show()"
      ],
      "metadata": {
        "id": "TIJwrbroYuh3"
      },
      "execution_count": null,
      "outputs": []
    },
    {
      "cell_type": "markdown",
      "source": [
        "##### 1. Why did you pick the specific chart?"
      ],
      "metadata": {
        "id": "QHF8YVU7Yuh3"
      }
    },
    {
      "cell_type": "markdown",
      "source": [
        "Boxplot helps compare the rating distribution between movies and TV shows, showing median, spread, and outliers clearly."
      ],
      "metadata": {
        "id": "dcxuIMRPYuh3"
      }
    },
    {
      "cell_type": "markdown",
      "source": [
        "##### 2. What is/are the insight(s) found from the chart?"
      ],
      "metadata": {
        "id": "GwzvFGzlYuh3"
      }
    },
    {
      "cell_type": "markdown",
      "source": [
        "IMDb scores for both shows and movies are similar, but TV shows have slightly higher median ratings and more outliers. This suggests more variability in show quality compared to movies"
      ],
      "metadata": {
        "id": "uyqkiB8YYuh3"
      }
    },
    {
      "cell_type": "markdown",
      "source": [
        "##### 3. Will the gained insights help creating a positive business impact?\n",
        "Are there any insights that lead to negative growth? Justify with specific reason."
      ],
      "metadata": {
        "id": "qYpmQ266Yuh3"
      }
    },
    {
      "cell_type": "markdown",
      "source": [
        "TV shows often receive better audience response, indicating strong engagement and content depth.\n",
        "\n",
        "High number of outliers in shows may signal inconsistent quality, which can confuse or frustrate users.\n"
      ],
      "metadata": {
        "id": "_WtzZ_hCYuh4"
      }
    },
    {
      "cell_type": "markdown",
      "source": [
        "#### Chart - 6"
      ],
      "metadata": {
        "id": "OH-pJp9IphqM"
      }
    },
    {
      "cell_type": "code",
      "source": [
        "# Chart - 6 visualization code\n",
        "sns.scatterplot(x='runtime', y='imdb_score', data=merged_df, alpha=0.4)\n",
        "plt.title(\"Runtime vs IMDb Score\")\n",
        "plt.xlabel(\"Runtime\")\n",
        "plt.ylabel(\"IMDb Score\")\n",
        "plt.show()"
      ],
      "metadata": {
        "id": "kuRf4wtuphqN"
      },
      "execution_count": null,
      "outputs": []
    },
    {
      "cell_type": "markdown",
      "source": [
        "##### 1. Why did you pick the specific chart?"
      ],
      "metadata": {
        "id": "bbFf2-_FphqN"
      }
    },
    {
      "cell_type": "markdown",
      "source": [
        "To observe any relationship or trend between the length of content (runtime) and its IMDb rating.\n",
        "\n"
      ],
      "metadata": {
        "id": "loh7H2nzphqN"
      }
    },
    {
      "cell_type": "markdown",
      "source": [
        "##### 2. What is/are the insight(s) found from the chart?"
      ],
      "metadata": {
        "id": "_ouA3fa0phqN"
      }
    },
    {
      "cell_type": "markdown",
      "source": [
        "There's no strong correlation — both short and long shows receive a wide range of ratings. Most content clusters below 150 minutes runtime, regardless of score."
      ],
      "metadata": {
        "id": "VECbqPI7phqN"
      }
    },
    {
      "cell_type": "markdown",
      "source": [
        "##### 3. Will the gained insights help creating a positive business impact?\n",
        "Are there any insights that lead to negative growth? Justify with specific reason."
      ],
      "metadata": {
        "id": "Seke61FWphqN"
      }
    },
    {
      "cell_type": "markdown",
      "source": [
        "Viewers are not biased by length — both short and long content can perform well.\n",
        "\n",
        "Gives flexibility to creators and content teams.\n",
        "\n",
        "No clear trend means runtime alone can’t predict success, so focus should be on storytelling quality, not just duration.\n"
      ],
      "metadata": {
        "id": "DW4_bGpfphqN"
      }
    },
    {
      "cell_type": "markdown",
      "source": [
        "#### Chart - 7"
      ],
      "metadata": {
        "id": "PIIx-8_IphqN"
      }
    },
    {
      "cell_type": "code",
      "source": [
        "# Chart - 7 visualization code\n",
        "age_group = merged_df.groupby('age_certification')['imdb_score'].mean().reset_index()\n",
        "sns.barplot(x='imdb_score', y='age_certification', data=age_group, palette='magma')\n",
        "plt.title(\"Average IMDb Score by Age Certification\")\n",
        "plt.xlabel(\"Average Score\")\n",
        "plt.ylabel(\"Age Certification\")\n",
        "plt.show()"
      ],
      "metadata": {
        "id": "lqAIGUfyphqO"
      },
      "execution_count": null,
      "outputs": []
    },
    {
      "cell_type": "markdown",
      "source": [
        "##### 1. Why did you pick the specific chart?"
      ],
      "metadata": {
        "id": "t27r6nlMphqO"
      }
    },
    {
      "cell_type": "markdown",
      "source": [
        "To compare audience ratings across age categories, helping understand which type of content performs best."
      ],
      "metadata": {
        "id": "iv6ro40sphqO"
      }
    },
    {
      "cell_type": "markdown",
      "source": [
        "##### 2. What is/are the insight(s) found from the chart?"
      ],
      "metadata": {
        "id": "r2jJGEOYphqO"
      }
    },
    {
      "cell_type": "markdown",
      "source": [
        "Kids’ content (TV-Y, TV-Y7, TV-PG) has the highest average IMDb scores, while adult-rated or not-rated content tends to score lower."
      ],
      "metadata": {
        "id": "Po6ZPi4hphqO"
      }
    },
    {
      "cell_type": "markdown",
      "source": [
        "##### 3. Will the gained insights help creating a positive business impact?\n",
        "Are there any insights that lead to negative growth? Justify with specific reason."
      ],
      "metadata": {
        "id": "b0JNsNcRphqO"
      }
    },
    {
      "cell_type": "markdown",
      "source": [
        "High ratings for family/kids content show strong audience satisfaction — a growth area to tap into.\n",
        "\n",
        "Lower ratings in R-rated or unrated content may reflect quality issues or misaligned expectations.\n"
      ],
      "metadata": {
        "id": "xvSq8iUTphqO"
      }
    },
    {
      "cell_type": "markdown",
      "source": [
        "#### Chart - 8"
      ],
      "metadata": {
        "id": "BZR9WyysphqO"
      }
    },
    {
      "cell_type": "code",
      "source": [
        "# Chart - 8 visualization code\n",
        "top_years = merged_df['release_year'].value_counts().nlargest(20).sort_index()\n",
        "top_years.plot(kind='bar', color='teal')\n",
        "plt.title(\"Top 20 Most Active Release Years\")\n",
        "plt.xlabel(\"Year\")\n",
        "plt.ylabel(\"Number of Titles\")\n",
        "plt.xticks(rotation=45)\n",
        "plt.show()"
      ],
      "metadata": {
        "id": "TdPTWpAVphqO"
      },
      "execution_count": null,
      "outputs": []
    },
    {
      "cell_type": "markdown",
      "source": [
        "##### 1. Why did you pick the specific chart?"
      ],
      "metadata": {
        "id": "jj7wYXLtphqO"
      }
    },
    {
      "cell_type": "markdown",
      "source": [
        "To show how content production or acquisition has evolved over the years — identifying growth spikes and activity trends."
      ],
      "metadata": {
        "id": "Ob8u6rCTphqO"
      }
    },
    {
      "cell_type": "markdown",
      "source": [
        "##### 2. What is/are the insight(s) found from the chart?"
      ],
      "metadata": {
        "id": "eZrbJ2SmphqO"
      }
    },
    {
      "cell_type": "markdown",
      "source": [
        "Massive growth in content release observed post 2010, peaking around 2017–2020. It highlights Amazon Prime’s aggressive push into content expansion in recent years."
      ],
      "metadata": {
        "id": "mZtgC_hjphqO"
      }
    },
    {
      "cell_type": "markdown",
      "source": [
        "##### 3. Will the gained insights help creating a positive business impact?\n",
        "Are there any insights that lead to negative growth? Justify with specific reason."
      ],
      "metadata": {
        "id": "rFu4xreNphqO"
      }
    },
    {
      "cell_type": "markdown",
      "source": [
        "Increasing yearly releases reflect strong investment, platform scaling, and market competitiveness.\n",
        "\n",
        "More recent content helps attract users looking for fresh and relevant content.\n",
        "\n",
        "Sudden dips after 2020 (possibly due to COVID or oversaturation) might indicate production slowdowns or content fatigue.\n",
        "\n"
      ],
      "metadata": {
        "id": "ey_0qi68phqO"
      }
    },
    {
      "cell_type": "markdown",
      "source": [
        "#### Chart - 9"
      ],
      "metadata": {
        "id": "YJ55k-q6phqO"
      }
    },
    {
      "cell_type": "code",
      "source": [
        "# Chart - 9 visualization code\n",
        "sns.scatterplot(x='runtime', y='imdb_score', hue='type', data=merged_df, alpha=0.4)\n",
        "plt.title(\"Runtime vs IMDb Score by Type\")\n",
        "plt.show()"
      ],
      "metadata": {
        "id": "B2aS4O1ophqO"
      },
      "execution_count": null,
      "outputs": []
    },
    {
      "cell_type": "markdown",
      "source": [
        "##### 1. Why did you pick the specific chart?"
      ],
      "metadata": {
        "id": "gCFgpxoyphqP"
      }
    },
    {
      "cell_type": "markdown",
      "source": [
        "To compare runtime vs IMDb score while also visually separating movies and TV shows for deeper insights."
      ],
      "metadata": {
        "id": "TVxDimi2phqP"
      }
    },
    {
      "cell_type": "markdown",
      "source": [
        "##### 2. What is/are the insight(s) found from the chart?"
      ],
      "metadata": {
        "id": "OVtJsKN_phqQ"
      }
    },
    {
      "cell_type": "markdown",
      "source": [
        "TV shows (blue) cluster around shorter runtimes (mostly <60 mins) with stable IMDb scores.\n",
        "\n",
        "Movies (orange) have more spread in runtime (up to 500 mins) but still show no strong correlation with ratings."
      ],
      "metadata": {
        "id": "ngGi97qjphqQ"
      }
    },
    {
      "cell_type": "markdown",
      "source": [
        "##### 3. Will the gained insights help creating a positive business impact?\n",
        "Are there any insights that lead to negative growth? Justify with specific reason."
      ],
      "metadata": {
        "id": "lssrdh5qphqQ"
      }
    },
    {
      "cell_type": "markdown",
      "source": [
        "Viewers appreciate both shows and movies across different lengths — shows consistent demand across formats.\n",
        "\n",
        "Flexibility to experiment with runtimes for both content types.\n",
        "\n",
        "No runtime advantage in predicting success. So longer runtime ≠ better rating, which may waste budget if not executed well"
      ],
      "metadata": {
        "id": "tBpY5ekJphqQ"
      }
    },
    {
      "cell_type": "markdown",
      "source": [
        "#### Chart - 10"
      ],
      "metadata": {
        "id": "U2RJ9gkRphqQ"
      }
    },
    {
      "cell_type": "code",
      "source": [
        "# Chart - 10 visualization code\n",
        "corr_cols = ['imdb_score', 'imdb_votes', 'runtime', 'tmdb_score']\n",
        "sns.heatmap(merged_df[corr_cols].corr(), annot=True, cmap='coolwarm')\n",
        "plt.title(\"Correlation Heatmap\")\n",
        "plt.show()"
      ],
      "metadata": {
        "id": "GM7a4YP4phqQ"
      },
      "execution_count": null,
      "outputs": []
    },
    {
      "cell_type": "markdown",
      "source": [
        "##### 1. Why did you pick the specific chart?"
      ],
      "metadata": {
        "id": "1M8mcRywphqQ"
      }
    },
    {
      "cell_type": "markdown",
      "source": [
        "To quantify the relationships between numeric features like IMDb score, runtime, and votes — visually highlights strong/weak correlations."
      ],
      "metadata": {
        "id": "8agQvks0phqQ"
      }
    },
    {
      "cell_type": "markdown",
      "source": [
        "##### 2. What is/are the insight(s) found from the chart?"
      ],
      "metadata": {
        "id": "tgIPom80phqQ"
      }
    },
    {
      "cell_type": "markdown",
      "source": [
        "IMDb score is moderately correlated with IMDb votes (0.26), meaning popular content often gets better ratings.\n",
        "\n",
        "Runtime has very weak correlation with IMDb or TMDB scores — so longer shows don’t guarantee higher ratings."
      ],
      "metadata": {
        "id": "Qp13pnNzphqQ"
      }
    },
    {
      "cell_type": "markdown",
      "source": [
        "##### 3. Will the gained insights help creating a positive business impact?\n",
        "Are there any insights that lead to negative growth? Justify with specific reason."
      ],
      "metadata": {
        "id": "JMzcOPDDphqR"
      }
    },
    {
      "cell_type": "markdown",
      "source": [
        "More votes = better ratings suggests that engaging more viewers can help increase perception and visibility.\n",
        "\n",
        "Runtime doesn’t significantly affect performance — teams focusing too much on show/movie length might be wasting effort."
      ],
      "metadata": {
        "id": "R4Ka1PC2phqR"
      }
    },
    {
      "cell_type": "markdown",
      "source": [
        "#### Chart - 11"
      ],
      "metadata": {
        "id": "n3dbpmDWp1ck"
      }
    },
    {
      "cell_type": "code",
      "source": [
        "# Chart - 11 visualization code\n",
        "top_actors = merged_df[merged_df['role'] == 'ACTOR']['name'].value_counts().nlargest(10)\n",
        "sns.barplot(x=top_actors.values, y=top_actors.index, palette='viridis')\n",
        "plt.title(\"Top 10 Most Frequent Actors\")\n",
        "plt.xlabel(\"Appearances\")\n",
        "plt.ylabel(\"Actor\")\n",
        "plt.show()"
      ],
      "metadata": {
        "id": "bwevp1tKp1ck"
      },
      "execution_count": null,
      "outputs": []
    },
    {
      "cell_type": "markdown",
      "source": [
        "##### 1. Why did you pick the specific chart?"
      ],
      "metadata": {
        "id": "ylSl6qgtp1ck"
      }
    },
    {
      "cell_type": "markdown",
      "source": [
        "A bar chart was selected to effectively compare the frequency of appearances for the top ten actors. Its clear, horizontal bars provide an intuitive visualization of the data, making it easy to rank and compare the actors based on their appearance counts."
      ],
      "metadata": {
        "id": "m2xqNkiQp1ck"
      }
    },
    {
      "cell_type": "markdown",
      "source": [
        "##### 2. What is/are the insight(s) found from the chart?"
      ],
      "metadata": {
        "id": "ZWILFDl5p1ck"
      }
    },
    {
      "cell_type": "markdown",
      "source": [
        "George 'Gabby' Hayes is the most frequently appearing actor, with a significantly higher count than any other actor on the list.\n",
        " * The top three actors (George 'Gabby' Hayes, Roy Rogers, and Bess Flowers) have a notably higher frequency than the rest of the actors.\n",
        " * The frequency of appearances decreases progressively down the list, with the bottom half of the actors having a much smaller difference in their appearance counts compared to the top actors.\n",
        " * The distribution shows a clear long-tail effect, with a few actors dominating the appearance count, while the majority have lower and more evenly distributed frequencies."
      ],
      "metadata": {
        "id": "x-lUsV2mp1ck"
      }
    },
    {
      "cell_type": "markdown",
      "source": [
        "##### 3. Will the gained insights help creating a positive business impact?\n",
        "Are there any insights that lead to negative growth? Justify with specific reason."
      ],
      "metadata": {
        "id": "M7G43BXep1ck"
      }
    },
    {
      "cell_type": "markdown",
      "source": [
        "The insights from this chart can drive positive business impact in several ways:\n",
        " * Content Strategy: Studios or production companies can leverage the popularity of top-ranking actors like George 'Gabby' Hayes to inform future casting decisions or to promote existing content featuring them. This data can help in developing a content strategy that capitalizes on proven audience interest.\n",
        " * Marketing and Promotion: The most frequent actors can be used as key marketing assets. By highlighting their involvement, businesses can attract a larger audience and increase viewership, leading to higher engagement and potential revenue.\n",
        " * Talent Management: This information is valuable for talent agencies and managers to understand an actor's market value and to negotiate contracts based on their historical prominence and appeal."
      ],
      "metadata": {
        "id": "5wwDJXsLp1cl"
      }
    },
    {
      "cell_type": "markdown",
      "source": [
        "#### Chart - 12"
      ],
      "metadata": {
        "id": "Ag9LCva-p1cl"
      }
    },
    {
      "cell_type": "code",
      "source": [
        "# Chart - 12 visualization code\n",
        "country_scores = merged_df.groupby('production_countries')['imdb_score'].mean().nlargest(10).reset_index()\n",
        "sns.barplot(x='imdb_score', y='production_countries', data=country_scores, palette='cubehelix')\n",
        "plt.title(\"Top 10 Countries by Avg IMDb Score\")\n",
        "plt.xlabel(\"Average IMDb Score\")\n",
        "plt.ylabel(\"Country\")\n",
        "plt.show()"
      ],
      "metadata": {
        "id": "EUfxeq9-p1cl"
      },
      "execution_count": null,
      "outputs": []
    },
    {
      "cell_type": "markdown",
      "source": [
        "##### 1. Why did you pick the specific chart?"
      ],
      "metadata": {
        "id": "E6MkPsBcp1cl"
      }
    },
    {
      "cell_type": "markdown",
      "source": [
        "A horizontal bar chart is ideal here because it allows for easy reading of the long country group names and clearly shows the ranking of average IMDB scores from highest to lowest"
      ],
      "metadata": {
        "id": "V22bRsFWp1cl"
      }
    },
    {
      "cell_type": "markdown",
      "source": [
        "##### 2. What is/are the insight(s) found from the chart?"
      ],
      "metadata": {
        "id": "2cELzS2fp1cl"
      }
    },
    {
      "cell_type": "markdown",
      "source": [
        "Collaborations Lead: Multi-country collaborations, particularly those involving 'AU', 'CA', and 'GB', achieve the highest average IMDb scores.\n",
        " * Top Contributors: The United States, Australia, and Great Britain frequently appear in the highest-rated country clusters.\n",
        " * Global Quality: High-scoring productions are not confined to a single geographic region"
      ],
      "metadata": {
        "id": "ozQPc2_Ip1cl"
      }
    },
    {
      "cell_type": "markdown",
      "source": [
        "#### Chart - 13 - Correlation Heatmap"
      ],
      "metadata": {
        "id": "NC_X3p0fY2L0"
      }
    },
    {
      "cell_type": "code",
      "source": [
        "# Correlation Heatmap visualization code\n",
        "corr_cols = ['imdb_score', 'imdb_votes', 'runtime', 'tmdb_score']\n",
        "\n",
        "# Compute correlation matrix\n",
        "correlation_matrix = merged_df[corr_cols].corr()\n",
        "\n",
        "# Plot heatmap\n",
        "plt.figure(figsize=(8, 6))\n",
        "sns.heatmap(correlation_matrix, annot=True, cmap='coolwarm', linewidths=0.5)\n",
        "plt.title(\"Correlation Heatmap: IMDb Score, Votes, Runtime, TMDb Score\")\n",
        "plt.show()"
      ],
      "metadata": {
        "id": "xyC9zolEZNRQ"
      },
      "execution_count": null,
      "outputs": []
    },
    {
      "cell_type": "markdown",
      "source": [
        "##### 1. Why did you pick the specific chart?"
      ],
      "metadata": {
        "id": "UV0SzAkaZNRQ"
      }
    },
    {
      "cell_type": "markdown",
      "source": [
        "A heatmap is ideal for visualizing correlation among multiple numeric variables. It gives a quick overview of how strongly variables are related to one another, using color gradients"
      ],
      "metadata": {
        "id": "DVPuT8LYZNRQ"
      }
    },
    {
      "cell_type": "markdown",
      "source": [
        "##### 2. What is/are the insight(s) found from the chart?"
      ],
      "metadata": {
        "id": "YPEH6qLeZNRQ"
      }
    },
    {
      "cell_type": "markdown",
      "source": [
        "imdb_score and tmdb_score might be positively correlated, showing consistency in rating platforms.\n",
        "\n",
        "imdb_votes might have low correlation with scores, revealing that popular titles aren't always the highest rated.\n",
        "\n",
        "Runtime might show weak or no correlation with ratings.\n",
        "\n"
      ],
      "metadata": {
        "id": "bfSqtnDqZNRR"
      }
    },
    {
      "cell_type": "markdown",
      "source": [
        "#### Chart - 14 - Pair Plot"
      ],
      "metadata": {
        "id": "q29F0dvdveiT"
      }
    },
    {
      "cell_type": "code",
      "source": [
        "# Pair Plot visualization code\n",
        "# Create pairplot with type as hue\n",
        "sns.pairplot(\n",
        "    merged_df[['imdb_score', 'imdb_votes', 'runtime', 'type']],\n",
        "    hue='type',\n",
        "    palette='husl',\n",
        "    corner=True\n",
        ")\n",
        "plt.suptitle(\"Pair Plot: Scores, Votes, Runtime by Type\", y=1.02)\n",
        "plt.show()"
      ],
      "metadata": {
        "id": "o58-TEIhveiU"
      },
      "execution_count": null,
      "outputs": []
    },
    {
      "cell_type": "markdown",
      "source": [
        "##### 1. Why did you pick the specific chart?"
      ],
      "metadata": {
        "id": "EXh0U9oCveiU"
      }
    },
    {
      "cell_type": "markdown",
      "source": [
        "To explore relationships between multiple numeric features simultaneously and see how they differ for Movies vs TV Shows."
      ],
      "metadata": {
        "id": "eMmPjTByveiU"
      }
    },
    {
      "cell_type": "markdown",
      "source": [
        "##### 2. What is/are the insight(s) found from the chart?"
      ],
      "metadata": {
        "id": "22aHeOlLveiV"
      }
    },
    {
      "cell_type": "markdown",
      "source": [
        "Clusters or patterns among MOVIE vs SHOW\n",
        "\n",
        "Runtime vs IMDb score may show that longer shows are not always better rated\n",
        "\n",
        "IMDb votes vs score can reveal high vote count doesn’t guarantee high ratings\n",
        "\n",
        "Compare whether movies or shows tend to dominate high-scoring or long-duration zones"
      ],
      "metadata": {
        "id": "uPQ8RGwHveiV"
      }
    },
    {
      "cell_type": "markdown",
      "source": [
        "## **5. Solution to Business Objective**"
      ],
      "metadata": {
        "id": "JcMwzZxoAimU"
      }
    },
    {
      "cell_type": "markdown",
      "source": [
        "#### What do you suggest the client to achieve Business Objective ?\n",
        "Explain Briefly."
      ],
      "metadata": {
        "id": "8G2x9gOozGDZ"
      }
    },
    {
      "cell_type": "markdown",
      "source": [
        "Prioritize TV Shows & Family Content:\n",
        "TV shows have better audience ratings, and kids/family-rated content shows higher satisfaction. Expanding in these areas can improve engagement and retention.\n",
        "\n",
        "Fix Missing Age Ratings:\n",
        "A large portion of content is marked \"Not Rated\", which affects parental controls and personalization. Cleaning this data will improve the user experience.\n",
        "\n",
        "Focus on Quality, Not Runtime:\n",
        "There's no strong link between runtime and ratings. Instead of producing longer content, invest in strong scripts and storytelling.\n",
        "\n",
        "Encourage User Reviews & Ratings:\n",
        "More IMDb votes correlate with higher scores. Prompt users to rate content — this builds trust and improves discoverability.\n",
        "\n",
        "Maintain Consistent Quality:\n",
        "Content production increased after 2015, but maintaining quality is essential to avoid audience drop-off and platform fatigue."
      ],
      "metadata": {
        "id": "pASKb0qOza21"
      }
    },
    {
      "cell_type": "markdown",
      "source": [
        "# **Conclusion**"
      ],
      "metadata": {
        "id": "gCX9965dhzqZ"
      }
    },
    {
      "cell_type": "markdown",
      "source": [
        "The exploratory data analysis on Amazon Prime Video content revealed several important trends and opportunities. The platform has a strong focus on movies, but TV shows tend to receive better and more consistent ratings, making them valuable for long-term engagement.\n",
        "\n",
        "IMDb scores are mostly concentrated between 6 and 8, showing overall user satisfaction. However, there's room to improve the quality of both highly-rated and low-rated content. Content certified for family and younger audiences performs exceptionally well, yet it remains underrepresented.\n",
        "\n",
        "Most content falls between 30–120 minutes, and runtime doesn't show a strong connection with ratings — highlighting that viewers value quality more than length. The spike in content releases after 2015 reflects Amazon's aggressive content expansion, but maintaining quality amid growth is crucial.\n",
        "\n",
        "User engagement, especially through reviews and votes, plays a key role in perceived content value. Improved metadata, more consistent age ratings, and better content diversity will enhance the user experience.\n",
        "\n",
        "In conclusion, Amazon Prime can further strengthen its position by focusing on high-quality shows, expanding family-friendly offerings, and optimizing content based on real viewer preferences."
      ],
      "metadata": {
        "id": "Fjb1IsQkh3yE"
      }
    },
    {
      "cell_type": "markdown",
      "source": [
        "### ***Hurrah! You have successfully completed your EDA Capstone Project !!!***"
      ],
      "metadata": {
        "id": "gIfDvo9L0UH2"
      }
    }
  ]
}